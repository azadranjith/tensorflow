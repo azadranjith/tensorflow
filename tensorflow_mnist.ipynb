{
  "nbformat": 4,
  "nbformat_minor": 0,
  "metadata": {
    "colab": {
      "name": "tensorflow_mnist.ipynb",
      "provenance": [],
      "authorship_tag": "ABX9TyP3Jr1oo0xphsDgXLSDHPN3",
      "include_colab_link": true
    },
    "kernelspec": {
      "name": "python3",
      "display_name": "Python 3"
    },
    "language_info": {
      "name": "python"
    },
    "gpuClass": "standard"
  },
  "cells": [
    {
      "cell_type": "markdown",
      "metadata": {
        "id": "view-in-github",
        "colab_type": "text"
      },
      "source": [
        "<a href=\"https://colab.research.google.com/github/azadranjith/tensorflow/blob/main/tensorflow_mnist.ipynb\" target=\"_parent\"><img src=\"https://colab.research.google.com/assets/colab-badge.svg\" alt=\"Open In Colab\"/></a>"
      ]
    },
    {
      "cell_type": "code",
      "execution_count": 266,
      "metadata": {
        "id": "T9vOCLZKOd1m"
      },
      "outputs": [],
      "source": [
        "import tensorflow as tf"
      ]
    },
    {
      "cell_type": "markdown",
      "source": [
        "## handwritten digits prediction \n",
        "mnsit"
      ],
      "metadata": {
        "id": "It_VxyB8PTjG"
      }
    },
    {
      "cell_type": "code",
      "source": [
        "mnist = tf.keras.datasets.mnist"
      ],
      "metadata": {
        "id": "-ZJpkMwjO4-z"
      },
      "execution_count": 267,
      "outputs": []
    },
    {
      "cell_type": "code",
      "source": [
        "#loading dataset\n",
        "\n",
        "(x_train,y_train),(x_test,y_test) = mnist.load_data()"
      ],
      "metadata": {
        "id": "o1HJ4i6vPmod"
      },
      "execution_count": 268,
      "outputs": []
    },
    {
      "cell_type": "code",
      "source": [
        "x_train.shape\n"
      ],
      "metadata": {
        "colab": {
          "base_uri": "https://localhost:8080/"
        },
        "id": "RUEWKLHOPqP3",
        "outputId": "18e65567-27b2-4bf5-ebf4-c65cf0c24d05"
      },
      "execution_count": 269,
      "outputs": [
        {
          "output_type": "execute_result",
          "data": {
            "text/plain": [
              "(60000, 28, 28)"
            ]
          },
          "metadata": {},
          "execution_count": 269
        }
      ]
    },
    {
      "cell_type": "code",
      "source": [
        "import numpy as np"
      ],
      "metadata": {
        "id": "MWtUywBKlW4Y"
      },
      "execution_count": 270,
      "outputs": []
    },
    {
      "cell_type": "code",
      "source": [
        "x_test[0].shape"
      ],
      "metadata": {
        "colab": {
          "base_uri": "https://localhost:8080/"
        },
        "id": "6oWpRzQCu90y",
        "outputId": "f8d1e029-1184-42cb-d5a9-aacad1e1b9f8"
      },
      "execution_count": 271,
      "outputs": [
        {
          "output_type": "execute_result",
          "data": {
            "text/plain": [
              "(28, 28)"
            ]
          },
          "metadata": {},
          "execution_count": 271
        }
      ]
    },
    {
      "cell_type": "code",
      "source": [
        "import cv2 as cv\n",
        "#openCV library to show tensor as images"
      ],
      "metadata": {
        "id": "F1qImMx9QvSQ"
      },
      "execution_count": 273,
      "outputs": []
    },
    {
      "cell_type": "code",
      "source": [
        "from google.colab.patches import cv2_imshow #imshow will not work in colab thats why we import this"
      ],
      "metadata": {
        "id": "7epwY2dASX-G"
      },
      "execution_count": 274,
      "outputs": []
    },
    {
      "cell_type": "code",
      "source": [
        "cv2_imshow(x_test[0])"
      ],
      "metadata": {
        "colab": {
          "base_uri": "https://localhost:8080/",
          "height": 45
        },
        "id": "IT4moM62Ss8R",
        "outputId": "9dee2c5b-74b8-4767-d6c2-fa7014c1e393"
      },
      "execution_count": 275,
      "outputs": [
        {
          "output_type": "display_data",
          "data": {
            "text/plain": [
              "<PIL.Image.Image image mode=L size=28x28 at 0x7FC21D593D90>"
            ],
            "image/png": "[encoded data removed]"
          },
          "metadata": {}
        }
      ]
    },
    {
      "cell_type": "code",
      "source": [
        "#converting all the values between one and zero\n",
        "x_train = x_train/255.0\n",
        "x_test = x_test/255.0"
      ],
      "metadata": {
        "id": "PK6QoLFdTDCI"
      },
      "execution_count": 276,
      "outputs": []
    },
    {
      "cell_type": "markdown",
      "source": [
        "## building  a sequential model"
      ],
      "metadata": {
        "id": "A8pM8uPl2NFi"
      }
    },
    {
      "cell_type": "code",
      "source": [
        "model = tf.keras.Sequential(name = 'my_first_ser')\n",
        "model.add\n",
        "model.add(tf.keras.layers.Dense(128,activation = 'relu',name = 'layer1'))\n",
        "                              #(128 is the number of nueoron)\n",
        "model.add(tf.keras.layers.Dense(56,activation = 'relu', name = 'layer2'))\n",
        "model.add(tf.keras.layers.Dense(10,activation='softmax'))"
      ],
      "metadata": {
        "id": "7qm4fiU5y7QF"
      },
      "execution_count": 291,
      "outputs": []
    },
    {
      "cell_type": "code",
      "source": [
        "type(x_train)"
      ],
      "metadata": {
        "colab": {
          "base_uri": "https://localhost:8080/"
        },
        "id": "9qR9YPfomOwo",
        "outputId": "265352a7-548b-41c9-9964-3f44ecc86cd4"
      },
      "execution_count": 292,
      "outputs": [
        {
          "output_type": "execute_result",
          "data": {
            "text/plain": [
              "numpy.ndarray"
            ]
          },
          "metadata": {},
          "execution_count": 292
        }
      ]
    },
    {
      "cell_type": "code",
      "source": [
        "\n",
        "z = x_train[:1]\n",
        "z=tf.constant(z.reshape(1,784))#converting numpy array to tensor and reshaping it as a one d tensor\n",
        "type(z)"
      ],
      "metadata": {
        "colab": {
          "base_uri": "https://localhost:8080/"
        },
        "id": "MZX9aGTi6pGf",
        "outputId": "dd90000f-8e8e-41af-ee4d-97c6fee0dd6c"
      },
      "execution_count": 293,
      "outputs": [
        {
          "output_type": "execute_result",
          "data": {
            "text/plain": [
              "tensorflow.python.framework.ops.EagerTensor"
            ]
          },
          "metadata": {},
          "execution_count": 293
        }
      ]
    },
    {
      "cell_type": "code",
      "source": [
        "#testing by inputing a data to model\n",
        "y = model(z).numpy()\n",
        "y"
      ],
      "metadata": {
        "colab": {
          "base_uri": "https://localhost:8080/"
        },
        "id": "dMcevSpx5M0r",
        "outputId": "07575579-cd8d-482b-a957-abdc0d3a3ab4"
      },
      "execution_count": 294,
      "outputs": [
        {
          "output_type": "execute_result",
          "data": {
            "text/plain": [
              "array([[0.11442962, 0.09205119, 0.10070038, 0.12873718, 0.1104724 ,\n",
              "        0.0573072 , 0.05744855, 0.12431764, 0.09532923, 0.1192067 ]],\n",
              "      dtype=float32)"
            ]
          },
          "metadata": {},
          "execution_count": 294
        }
      ]
    },
    {
      "cell_type": "code",
      "source": [
        "#loss function \n",
        "loss = tf.keras.losses.SparseCategoricalCrossentropy(from_logits=True)"
      ],
      "metadata": {
        "id": "lDIAZpCT7f_I"
      },
      "execution_count": 295,
      "outputs": []
    },
    {
      "cell_type": "code",
      "source": [
        "loss(y_train[:1],y)"
      ],
      "metadata": {
        "colab": {
          "base_uri": "https://localhost:8080/"
        },
        "id": "WS1FCaVu9iny",
        "outputId": "6c40483f-d89a-4075-ce5e-c34b69ee4dff"
      },
      "execution_count": 296,
      "outputs": [
        {
          "output_type": "execute_result",
          "data": {
            "text/plain": [
              "<tf.Tensor: shape=(), dtype=float32, numpy=2.3455672>"
            ]
          },
          "metadata": {},
          "execution_count": 296
        }
      ]
    },
    {
      "cell_type": "markdown",
      "source": [
        "### before start training configure and compile the model\n",
        "by setting loss,optimizer,metrics"
      ],
      "metadata": {
        "id": "xZPbCQRLV_9h"
      }
    },
    {
      "cell_type": "code",
      "source": [
        "model.compile(optimizer='sgd',\n",
        "              loss=loss,\n",
        "              metrics=['accuracy'])"
      ],
      "metadata": {
        "id": "pLcxs5hy9vuk"
      },
      "execution_count": 297,
      "outputs": []
    },
    {
      "cell_type": "code",
      "source": [
        "X_TRAIN = x_train.reshape(-1,784)\n",
        "X_TRAIN=tf.constant(X_TRAIN)\n",
        "#reshaping and transforming to tensor"
      ],
      "metadata": {
        "id": "P5P-thjmW3U6"
      },
      "execution_count": 298,
      "outputs": []
    },
    {
      "cell_type": "code",
      "source": [
        "#training for 5 epoches\n",
        "model.fit(X_TRAIN,y_train,epochs=5)"
      ],
      "metadata": {
        "colab": {
          "base_uri": "https://localhost:8080/"
        },
        "id": "VUSGxwFQWf0x",
        "outputId": "f1442e72-9203-4b23-d2a7-4b734bf8f0f5"
      },
      "execution_count": 299,
      "outputs": [
        {
          "output_type": "stream",
          "name": "stdout",
          "text": [
            "Epoch 1/5\n",
            "1875/1875 [==============================] - 5s 2ms/step - loss: 0.6253 - accuracy: 0.8332\n",
            "Epoch 2/5\n",
            "1875/1875 [==============================] - 5s 2ms/step - loss: 0.2974 - accuracy: 0.9135\n",
            "Epoch 3/5\n",
            "1875/1875 [==============================] - 5s 2ms/step - loss: 0.2454 - accuracy: 0.9289\n",
            "Epoch 4/5\n",
            "1875/1875 [==============================] - 4s 2ms/step - loss: 0.2116 - accuracy: 0.9390\n",
            "Epoch 5/5\n",
            "1875/1875 [==============================] - 4s 2ms/step - loss: 0.1863 - accuracy: 0.9463\n"
          ]
        },
        {
          "output_type": "execute_result",
          "data": {
            "text/plain": [
              "<keras.callbacks.History at 0x7fc21d43a910>"
            ]
          },
          "metadata": {},
          "execution_count": 299
        }
      ]
    },
    {
      "cell_type": "code",
      "source": [
        "x_t = tf.constant(x_test.reshape(-1,784))"
      ],
      "metadata": {
        "id": "qgG5yPY6YAV5"
      },
      "execution_count": 300,
      "outputs": []
    },
    {
      "cell_type": "code",
      "source": [
        "#testing accuracy\n",
        "model.evaluate(x_t,y_test)"
      ],
      "metadata": {
        "colab": {
          "base_uri": "https://localhost:8080/"
        },
        "id": "Zdm_21vVWt9E",
        "outputId": "10bc40e3-9f4f-47b7-ddcb-5d8857df1e5b"
      },
      "execution_count": 301,
      "outputs": [
        {
          "output_type": "stream",
          "name": "stdout",
          "text": [
            "313/313 [==============================] - 1s 2ms/step - loss: 0.1770 - accuracy: 0.9491\n"
          ]
        },
        {
          "output_type": "execute_result",
          "data": {
            "text/plain": [
              "[0.1769995540380478, 0.9491000175476074]"
            ]
          },
          "metadata": {},
          "execution_count": 301
        }
      ]
    },
    {
      "cell_type": "code",
      "source": [
        "y_test[118]"
      ],
      "metadata": {
        "colab": {
          "base_uri": "https://localhost:8080/"
        },
        "id": "EvJcnmg0Yovj",
        "outputId": "bf357649-4408-40c8-f5ab-2e19827370ba"
      },
      "execution_count": 302,
      "outputs": [
        {
          "output_type": "execute_result",
          "data": {
            "text/plain": [
              "9"
            ]
          },
          "metadata": {},
          "execution_count": 302
        }
      ]
    },
    {
      "cell_type": "code",
      "source": [
        "o=np.array(x_t[118]).reshape(-1,784)"
      ],
      "metadata": {
        "id": "UU6aUC6DYvLr"
      },
      "execution_count": 303,
      "outputs": []
    },
    {
      "cell_type": "code",
      "source": [
        "model(o)"
      ],
      "metadata": {
        "colab": {
          "base_uri": "https://localhost:8080/"
        },
        "id": "90FtNwNoX9uc",
        "outputId": "b12823eb-8af7-4c6b-956a-94fdbf4bc95c"
      },
      "execution_count": 304,
      "outputs": [
        {
          "output_type": "execute_result",
          "data": {
            "text/plain": [
              "<tf.Tensor: shape=(1, 10), dtype=float32, numpy=\n",
              "array([[3.4222635e-04, 1.5906922e-05, 4.8815599e-04, 4.4622051e-04,\n",
              "        5.1271580e-02, 7.0065900e-04, 1.0233389e-04, 1.6179271e-02,\n",
              "        2.9112303e-03, 9.2754239e-01]], dtype=float32)>"
            ]
          },
          "metadata": {},
          "execution_count": 304
        }
      ]
    },
    {
      "cell_type": "code",
      "source": [
        ""
      ],
      "metadata": {
        "id": "SkH9BYZaY_ic"
      },
      "execution_count": null,
      "outputs": []
    }
  ]
}