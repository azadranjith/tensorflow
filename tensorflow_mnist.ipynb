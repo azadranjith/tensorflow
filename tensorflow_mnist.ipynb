{
  "nbformat": 4,
  "nbformat_minor": 0,
  "metadata": {
    "colab": {
      "name": "tensorflow_mnist.ipynb",
      "provenance": [],
      "authorship_tag": "ABX9TyPjKira3QzHc5CkzK0OS/cA",
      "include_colab_link": true
    },
    "kernelspec": {
      "name": "python3",
      "display_name": "Python 3"
    },
    "language_info": {
      "name": "python"
    },
    "gpuClass": "standard"
  },
  "cells": [
    {
      "cell_type": "markdown",
      "metadata": {
        "id": "view-in-github",
        "colab_type": "text"
      },
      "source": [
        "<a href=\"https://colab.research.google.com/github/azadranjith/tensorflow/blob/main/tensorflow_mnist.ipynb\" target=\"_parent\"><img src=\"https://colab.research.google.com/assets/colab-badge.svg\" alt=\"Open In Colab\"/></a>"
      ]
    },
    {
      "cell_type": "code",
      "execution_count": 56,
      "metadata": {
        "id": "T9vOCLZKOd1m"
      },
      "outputs": [],
      "source": [
        "import tensorflow as tf"
      ]
    },
    {
      "cell_type": "markdown",
      "source": [
        "## handwritten digits prediction \n",
        "mnsit"
      ],
      "metadata": {
        "id": "It_VxyB8PTjG"
      }
    },
    {
      "cell_type": "code",
      "source": [
        "mnist = tf.keras.datasets.mnist"
      ],
      "metadata": {
        "id": "-ZJpkMwjO4-z"
      },
      "execution_count": 57,
      "outputs": []
    },
    {
      "cell_type": "code",
      "source": [
        "#loading dataset\n",
        "\n",
        "(x_train,y_train),(x_test,y_test) = mnist.load_data()"
      ],
      "metadata": {
        "id": "o1HJ4i6vPmod"
      },
      "execution_count": 58,
      "outputs": []
    },
    {
      "cell_type": "code",
      "source": [
        "x_train.shape\n"
      ],
      "metadata": {
        "colab": {
          "base_uri": "https://localhost:8080/"
        },
        "id": "RUEWKLHOPqP3",
        "outputId": "3d427f15-e4b0-43e0-85f9-93ef2c350b3c"
      },
      "execution_count": 9,
      "outputs": [
        {
          "output_type": "execute_result",
          "data": {
            "text/plain": [
              "(60000, 28, 28)"
            ]
          },
          "metadata": {},
          "execution_count": 9
        }
      ]
    },
    {
      "cell_type": "code",
      "source": [
        "#creating 3d tensor in tf\n",
        "x = tf.constant([[[1.0,1.0,1.0,4],[3,3,3,2]],[[2,2,2,3],[4,3,4,4]]])\n",
        "tf.math.reduce_mean(x,axis=1)"
      ],
      "metadata": {
        "colab": {
          "base_uri": "https://localhost:8080/"
        },
        "id": "K6yLcs8FTcxN",
        "outputId": "773bd16e-57b0-498f-cae6-61e34c2347e1"
      },
      "execution_count": 154,
      "outputs": [
        {
          "output_type": "execute_result",
          "data": {
            "text/plain": [
              "<tf.Tensor: shape=(2, 4), dtype=float32, numpy=\n",
              "array([[2. , 2. , 2. , 3. ],\n",
              "       [3. , 2.5, 3. , 3.5]], dtype=float32)>"
            ]
          },
          "metadata": {},
          "execution_count": 154
        }
      ]
    },
    {
      "cell_type": "code",
      "source": [
        "import numpy as np\n",
        "\n",
        "y=np.asarray(x_train[0])\n",
        "y.shape"
      ],
      "metadata": {
        "colab": {
          "base_uri": "https://localhost:8080/"
        },
        "id": "hG5vMvuOQkaT",
        "outputId": "bf5f72cd-8d57-4c28-c6d9-24be32d8f024"
      },
      "execution_count": 55,
      "outputs": [
        {
          "output_type": "execute_result",
          "data": {
            "text/plain": [
              "(28, 28)"
            ]
          },
          "metadata": {},
          "execution_count": 55
        }
      ]
    },
    {
      "cell_type": "code",
      "source": [
        "x_test[0].shape"
      ],
      "metadata": {
        "colab": {
          "base_uri": "https://localhost:8080/"
        },
        "id": "6oWpRzQCu90y",
        "outputId": "00e4f08a-3f7e-4fe7-cee6-1a8bd59790a6"
      },
      "execution_count": 72,
      "outputs": [
        {
          "output_type": "execute_result",
          "data": {
            "text/plain": [
              "(28, 28)"
            ]
          },
          "metadata": {},
          "execution_count": 72
        }
      ]
    },
    {
      "cell_type": "code",
      "source": [
        "import cv2 as cv"
      ],
      "metadata": {
        "id": "F1qImMx9QvSQ"
      },
      "execution_count": 11,
      "outputs": []
    },
    {
      "cell_type": "code",
      "source": [
        "from google.colab.patches import cv2_imshow #imshow will not work in colab thats why we import this"
      ],
      "metadata": {
        "id": "7epwY2dASX-G"
      },
      "execution_count": 13,
      "outputs": []
    },
    {
      "cell_type": "code",
      "source": [
        "\n",
        "cv2_imshow(x_test[0])"
      ],
      "metadata": {
        "colab": {
          "base_uri": "https://localhost:8080/",
          "height": 45
        },
        "id": "IT4moM62Ss8R",
        "outputId": "38b61f79-2218-40f9-cdcb-2b9103b4ef35"
      },
      "execution_count": 71,
      "outputs": [
        {
          "output_type": "display_data",
          "data": {
            "text/plain": [
              "<PIL.Image.Image image mode=L size=28x28 at 0x7FC2255D8410>"
            ],
            "image/png": "[encoded data removed]"
          },
          "metadata": {}
        }
      ]
    },
    {
      "cell_type": "code",
      "source": [
        "#to find the mean in tf\n",
        "x=tf.math.reduce_mean(x_test,axis=0,keepdims=True)"
      ],
      "metadata": {
        "id": "QkT8q7bSuoRv"
      },
      "execution_count": 74,
      "outputs": []
    },
    {
      "cell_type": "code",
      "source": [
        "#just showed ideal number (mean of digits in dataset)\n",
        "cv2_imshow(np.asarray(x[0]))"
      ],
      "metadata": {
        "colab": {
          "base_uri": "https://localhost:8080/",
          "height": 45
        },
        "id": "voZ0YA2Oi5GZ",
        "outputId": "d7d84c70-e3bc-4494-97a4-9bf82997efdf"
      },
      "execution_count": 92,
      "outputs": [
        {
          "output_type": "display_data",
          "data": {
            "text/plain": [
              "<PIL.Image.Image image mode=L size=28x28 at 0x7FC2255FBA90>"
            ],
            "image/png": "[encoded data removed]"
          },
          "metadata": {}
        }
      ]
    },
    {
      "cell_type": "code",
      "source": [
        "#converting all the values between one and zero\n",
        "x_train = x_train/255.0\n",
        "x_test = x_test/255.0"
      ],
      "metadata": {
        "id": "PK6QoLFdTDCI"
      },
      "execution_count": 93,
      "outputs": []
    },
    {
      "cell_type": "code",
      "source": [
        "a = tf.constant([[1,2,3]])\n",
        "b = tf.constant([[0,500,0]])"
      ],
      "metadata": {
        "id": "27BaG7ZpwE5u"
      },
      "execution_count": 95,
      "outputs": []
    },
    {
      "cell_type": "code",
      "source": [
        "print(a + b,'\\n',a * b,'\\n')"
      ],
      "metadata": {
        "colab": {
          "base_uri": "https://localhost:8080/"
        },
        "id": "S7R7bR17yF9I",
        "outputId": "9d7399c2-d376-49c2-8b69-3f42e182b49e"
      },
      "execution_count": 100,
      "outputs": [
        {
          "output_type": "stream",
          "name": "stdout",
          "text": [
            "tf.Tensor([[  1 502   3]], shape=(1, 3), dtype=int32) \n",
            " tf.Tensor([[   0 1000    0]], shape=(1, 3), dtype=int32) \n",
            "\n"
          ]
        }
      ]
    },
    {
      "cell_type": "code",
      "source": [
        "a.shape"
      ],
      "metadata": {
        "colab": {
          "base_uri": "https://localhost:8080/"
        },
        "id": "pKqiVe3RyHjM",
        "outputId": "b69dd96d-455c-4b94-b8eb-90e999202050"
      },
      "execution_count": 103,
      "outputs": [
        {
          "output_type": "execute_result",
          "data": {
            "text/plain": [
              "TensorShape([1, 3])"
            ]
          },
          "metadata": {},
          "execution_count": 103
        }
      ]
    },
    {
      "cell_type": "code",
      "source": [
        "b.shape"
      ],
      "metadata": {
        "colab": {
          "base_uri": "https://localhost:8080/"
        },
        "id": "orsfnxayyi3c",
        "outputId": "0051954b-2c3b-40c8-a94b-b097a79886d8"
      },
      "execution_count": 102,
      "outputs": [
        {
          "output_type": "execute_result",
          "data": {
            "text/plain": [
              "TensorShape([1, 3])"
            ]
          },
          "metadata": {},
          "execution_count": 102
        }
      ]
    },
    {
      "cell_type": "code",
      "source": [
        "tf.transpose(b)"
      ],
      "metadata": {
        "colab": {
          "base_uri": "https://localhost:8080/"
        },
        "id": "c4_9ng05zYh2",
        "outputId": "0380156c-bd93-49c3-c27b-738868868eb7"
      },
      "execution_count": 155,
      "outputs": [
        {
          "output_type": "execute_result",
          "data": {
            "text/plain": [
              "<tf.Tensor: shape=(3, 1), dtype=int32, numpy=\n",
              "array([[  0],\n",
              "       [500],\n",
              "       [  0]], dtype=int32)>"
            ]
          },
          "metadata": {},
          "execution_count": 155
        }
      ]
    },
    {
      "cell_type": "code",
      "source": [
        "tf.transpose(b) @ a"
      ],
      "metadata": {
        "colab": {
          "base_uri": "https://localhost:8080/"
        },
        "id": "dU4mCzfTykyH",
        "outputId": "d8786e00-1593-464b-f10d-1e4600820f5b"
      },
      "execution_count": 110,
      "outputs": [
        {
          "output_type": "execute_result",
          "data": {
            "text/plain": [
              "<tf.Tensor: shape=(3, 3), dtype=int32, numpy=\n",
              "array([[   0,    0,    0],\n",
              "       [ 500, 1000, 1500],\n",
              "       [   0,    0,    0]], dtype=int32)>"
            ]
          },
          "metadata": {},
          "execution_count": 110
        }
      ]
    },
    {
      "cell_type": "markdown",
      "source": [
        "## building  a sequential model"
      ],
      "metadata": {
        "id": "A8pM8uPl2NFi"
      }
    },
    {
      "cell_type": "code",
      "source": [
        "model = tf.keras.Sequential(name = 'my_first_ser')\n",
        "model.add\n",
        "model.add(tf.keras.layers.Dense(128,activation = 'relu',name = 'layer1'))\n",
        "                              #(out_shape)\n",
        "model.add(tf.keras.layers.Dense(56,activation = 'relu', name = 'layer2'))\n",
        "model.add(tf.keras.layers.Dense(20,activation='softmax'))"
      ],
      "metadata": {
        "id": "7qm4fiU5y7QF"
      },
      "execution_count": 244,
      "outputs": []
    },
    {
      "cell_type": "code",
      "source": [
        "z = x_train[:1]\n",
        "z=tf.constant(z.reshape(1,784))"
      ],
      "metadata": {
        "id": "MZX9aGTi6pGf"
      },
      "execution_count": 245,
      "outputs": []
    },
    {
      "cell_type": "code",
      "source": [
        ""
      ],
      "metadata": {
        "id": "kRwJsv5BUYYU"
      },
      "execution_count": 245,
      "outputs": []
    },
    {
      "cell_type": "code",
      "source": [
        "x = tf.ones((1,784))\n",
        "y = model(z).numpy()\n",
        "# model.weights\n",
        "y"
      ],
      "metadata": {
        "colab": {
          "base_uri": "https://localhost:8080/"
        },
        "id": "dMcevSpx5M0r",
        "outputId": "f2f4f874-7314-4e63-ebce-469db176c2e9"
      },
      "execution_count": 246,
      "outputs": [
        {
          "output_type": "execute_result",
          "data": {
            "text/plain": [
              "array([[0.08112711, 0.05292052, 0.07525147, 0.06853732, 0.06682558,\n",
              "        0.02349278, 0.03097521, 0.09060245, 0.02700738, 0.02809855,\n",
              "        0.033902  , 0.08729573, 0.02819971, 0.05425013, 0.06454265,\n",
              "        0.0254952 , 0.06013119, 0.01760472, 0.05216704, 0.03157329]],\n",
              "      dtype=float32)"
            ]
          },
          "metadata": {},
          "execution_count": 246
        }
      ]
    },
    {
      "cell_type": "code",
      "source": [
        "\n",
        "#loss function \n",
        "\n",
        "loss = tf.keras.losses.SparseCategoricalCrossentropy(from_logits=True)"
      ],
      "metadata": {
        "id": "lDIAZpCT7f_I"
      },
      "execution_count": 171,
      "outputs": []
    },
    {
      "cell_type": "code",
      "source": [
        "loss(y_train[:1],y)"
      ],
      "metadata": {
        "colab": {
          "base_uri": "https://localhost:8080/"
        },
        "id": "WS1FCaVu9iny",
        "outputId": "35bce3c9-aa05-4f0c-83a7-2fc7c2d22508"
      },
      "execution_count": 247,
      "outputs": [
        {
          "output_type": "execute_result",
          "data": {
            "text/plain": [
              "<tf.Tensor: shape=(), dtype=float32, numpy=3.0225003>"
            ]
          },
          "metadata": {},
          "execution_count": 247
        }
      ]
    },
    {
      "cell_type": "markdown",
      "source": [
        "### before start training configure and compile the model\n",
        "by setting loss,optimizer,metrics"
      ],
      "metadata": {
        "id": "xZPbCQRLV_9h"
      }
    },
    {
      "cell_type": "code",
      "source": [
        "model.compile(optimizer='sgd',\n",
        "              loss=loss,\n",
        "              metrics=['accuracy'])"
      ],
      "metadata": {
        "id": "pLcxs5hy9vuk"
      },
      "execution_count": 250,
      "outputs": []
    },
    {
      "cell_type": "code",
      "source": [
        "X_TRAIN = x_train.reshape(-1,784)\n",
        "X_TRAIN=tf.constant(X_TRAIN)"
      ],
      "metadata": {
        "id": "P5P-thjmW3U6"
      },
      "execution_count": 251,
      "outputs": []
    },
    {
      "cell_type": "code",
      "source": [
        "model.fit(X_TRAIN,y_train,epochs=5)"
      ],
      "metadata": {
        "colab": {
          "base_uri": "https://localhost:8080/"
        },
        "id": "VUSGxwFQWf0x",
        "outputId": "036c441d-cb8e-4611-cf76-0bef414504b3"
      },
      "execution_count": 252,
      "outputs": [
        {
          "output_type": "stream",
          "name": "stdout",
          "text": [
            "Epoch 1/5\n"
          ]
        },
        {
          "output_type": "stream",
          "name": "stderr",
          "text": [
            "/usr/local/lib/python3.7/dist-packages/tensorflow/python/util/dispatch.py:1082: UserWarning: \"`sparse_categorical_crossentropy` received `from_logits=True`, but the `output` argument was produced by a sigmoid or softmax activation and thus does not represent logits. Was this intended?\"\n",
            "  return dispatch_target(*args, **kwargs)\n"
          ]
        },
        {
          "output_type": "stream",
          "name": "stdout",
          "text": [
            "1875/1875 [==============================] - 5s 2ms/step - loss: 0.6612 - accuracy: 0.8296\n",
            "Epoch 2/5\n",
            "1875/1875 [==============================] - 4s 2ms/step - loss: 0.2916 - accuracy: 0.9163\n",
            "Epoch 3/5\n",
            "1875/1875 [==============================] - 4s 2ms/step - loss: 0.2379 - accuracy: 0.9320\n",
            "Epoch 4/5\n",
            "1875/1875 [==============================] - 4s 2ms/step - loss: 0.2034 - accuracy: 0.9419\n",
            "Epoch 5/5\n",
            "1875/1875 [==============================] - 4s 2ms/step - loss: 0.1785 - accuracy: 0.9489\n"
          ]
        },
        {
          "output_type": "execute_result",
          "data": {
            "text/plain": [
              "<keras.callbacks.History at 0x7fc21df599d0>"
            ]
          },
          "metadata": {},
          "execution_count": 252
        }
      ]
    },
    {
      "cell_type": "code",
      "source": [
        "x_t = tf.constant(x_test.reshape(-1,784))"
      ],
      "metadata": {
        "id": "qgG5yPY6YAV5"
      },
      "execution_count": 253,
      "outputs": []
    },
    {
      "cell_type": "code",
      "source": [
        "model.evaluate(x_t,y_test)"
      ],
      "metadata": {
        "colab": {
          "base_uri": "https://localhost:8080/"
        },
        "id": "Zdm_21vVWt9E",
        "outputId": "f16ddffb-652d-4d64-87cf-3c8fd61dcce1"
      },
      "execution_count": 254,
      "outputs": [
        {
          "output_type": "stream",
          "name": "stdout",
          "text": [
            "313/313 [==============================] - 1s 2ms/step - loss: 0.1632 - accuracy: 0.9528\n"
          ]
        },
        {
          "output_type": "execute_result",
          "data": {
            "text/plain": [
              "[0.16322599351406097, 0.9527999758720398]"
            ]
          },
          "metadata": {},
          "execution_count": 254
        }
      ]
    },
    {
      "cell_type": "code",
      "source": [
        "y_test[118]"
      ],
      "metadata": {
        "colab": {
          "base_uri": "https://localhost:8080/"
        },
        "id": "EvJcnmg0Yovj",
        "outputId": "87664500-d8f8-42a4-e539-fb9539d08afc"
      },
      "execution_count": 261,
      "outputs": [
        {
          "output_type": "execute_result",
          "data": {
            "text/plain": [
              "9"
            ]
          },
          "metadata": {},
          "execution_count": 261
        }
      ]
    },
    {
      "cell_type": "code",
      "source": [
        "o=np.array(x_t[118]).reshape(-1,784)"
      ],
      "metadata": {
        "id": "UU6aUC6DYvLr"
      },
      "execution_count": 263,
      "outputs": []
    },
    {
      "cell_type": "code",
      "source": [
        "model(o)"
      ],
      "metadata": {
        "colab": {
          "base_uri": "https://localhost:8080/"
        },
        "id": "90FtNwNoX9uc",
        "outputId": "56de97a2-055a-4d36-fe20-84575fe13b04"
      },
      "execution_count": 264,
      "outputs": [
        {
          "output_type": "execute_result",
          "data": {
            "text/plain": [
              "<tf.Tensor: shape=(1, 20), dtype=float32, numpy=\n",
              "array([[6.1132334e-04, 5.4372169e-05, 9.9814159e-04, 1.3227296e-03,\n",
              "        7.8812882e-02, 1.5340385e-03, 3.8104059e-04, 1.7930297e-02,\n",
              "        5.0565102e-03, 8.9306229e-01, 1.1738964e-05, 4.7345213e-05,\n",
              "        4.4133812e-06, 2.9849149e-05, 3.3754684e-05, 1.4440576e-05,\n",
              "        2.9240648e-05, 5.8757092e-07, 8.4005624e-06, 5.6473124e-05]],\n",
              "      dtype=float32)>"
            ]
          },
          "metadata": {},
          "execution_count": 264
        }
      ]
    },
    {
      "cell_type": "code",
      "source": [
        ""
      ],
      "metadata": {
        "id": "SkH9BYZaY_ic"
      },
      "execution_count": null,
      "outputs": []
    }
  ]
}