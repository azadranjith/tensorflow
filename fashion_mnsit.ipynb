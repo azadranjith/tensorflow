{
  "nbformat": 4,
  "nbformat_minor": 0,
  "metadata": {
    "colab": {
      "name": "fashion_mnsit.ipynb",
      "provenance": [],
      "authorship_tag": "ABX9TyMsQGIPl/xexIPEALYcqAgy",
      "include_colab_link": true
    },
    "kernelspec": {
      "name": "python3",
      "display_name": "Python 3"
    },
    "language_info": {
      "name": "python"
    }
  },
  "cells": [
    {
      "cell_type": "markdown",
      "metadata": {
        "id": "view-in-github",
        "colab_type": "text"
      },
      "source": [
        "<a href=\"https://colab.research.google.com/github/azadranjith/tensorflow/blob/main/fashion_mnsit.ipynb\" target=\"_parent\"><img src=\"https://colab.research.google.com/assets/colab-badge.svg\" alt=\"Open In Colab\"/></a>"
      ]
    },
    {
      "cell_type": "markdown",
      "source": [
        "#FASHION_MNIST"
      ],
      "metadata": {
        "id": "fHBmKpXxuscx"
      }
    },
    {
      "cell_type": "code",
      "execution_count": 13,
      "metadata": {
        "id": "ZZGMl1aGn4i3"
      },
      "outputs": [],
      "source": [
        "import tensorflow as tf\n",
        "import numpy as np\n",
        "import matplotlib.pyplot as plt"
      ]
    },
    {
      "cell_type": "code",
      "source": [
        "fashion_mnist = tf.keras.datasets.fashion_mnist"
      ],
      "metadata": {
        "id": "SVQ1Cqz_t100"
      },
      "execution_count": 3,
      "outputs": []
    },
    {
      "cell_type": "code",
      "source": [
        "(x_train,y_train),(x_test,y_test) = fashion_mnist.load_data()"
      ],
      "metadata": {
        "id": "uU4gkfkGuD2F"
      },
      "execution_count": 9,
      "outputs": []
    },
    {
      "cell_type": "markdown",
      "source": [
        "### exploring the data"
      ],
      "metadata": {
        "id": "YyQG0zrhw5Le"
      }
    },
    {
      "cell_type": "code",
      "source": [
        "x_train.shape\n",
        "#60000 28x28 pixel images"
      ],
      "metadata": {
        "colab": {
          "base_uri": "https://localhost:8080/"
        },
        "id": "Np3Hq3hyuIXX",
        "outputId": "69df8e06-92b5-4b46-87fd-50d15c16b7cd"
      },
      "execution_count": 11,
      "outputs": [
        {
          "output_type": "execute_result",
          "data": {
            "text/plain": [
              "(60000, 28, 28)"
            ]
          },
          "metadata": {},
          "execution_count": 11
        }
      ]
    },
    {
      "cell_type": "code",
      "source": [
        "#show image \n",
        "# import cv2 as cv\n",
        "from google.colab.patches import cv2_imshow\n",
        "cv2_imshow(x_train[1])"
      ],
      "metadata": {
        "colab": {
          "base_uri": "https://localhost:8080/",
          "height": 45
        },
        "id": "GGkfFbUUuT6K",
        "outputId": "ce9a26a3-18d5-410a-c6fd-c949b04eec62"
      },
      "execution_count": 12,
      "outputs": [
        {
          "output_type": "display_data",
          "data": {
            "text/plain": [
              "<PIL.Image.Image image mode=L size=28x28 at 0x7FB1A5AB36D0>"
            ],
            "image/png": "[encoded data removed]"
          },
          "metadata": {}
        }
      ]
    },
    {
      "cell_type": "code",
      "source": [
        "y_train[1]"
      ],
      "metadata": {
        "colab": {
          "base_uri": "https://localhost:8080/"
        },
        "id": "987ms1zVvVCN",
        "outputId": "9b8bb5b1-d440-48c9-afb8-197e8caf31ae"
      },
      "execution_count": 14,
      "outputs": [
        {
          "output_type": "execute_result",
          "data": {
            "text/plain": [
              "0"
            ]
          },
          "metadata": {},
          "execution_count": 14
        }
      ]
    },
    {
      "cell_type": "code",
      "source": [
        "#we needed to map each label into numbers\n",
        "class_names = ['T-shirt/top', 'Trouser', 'Pullover', 'Dress', 'Coat',\n",
        "               'Sandal', 'Shirt', 'Sneaker', 'Bag', 'Ankle boot']"
      ],
      "metadata": {
        "id": "BYZEpo0wwKKL"
      },
      "execution_count": 15,
      "outputs": []
    },
    {
      "cell_type": "code",
      "source": [
        "y_train.max()"
      ],
      "metadata": {
        "colab": {
          "base_uri": "https://localhost:8080/"
        },
        "id": "-z2J_jshwj6j",
        "outputId": "b452f7f3-ee6c-40de-bacb-07baaafe9697"
      },
      "execution_count": 17,
      "outputs": [
        {
          "output_type": "execute_result",
          "data": {
            "text/plain": [
              "9"
            ]
          },
          "metadata": {},
          "execution_count": 17
        }
      ]
    },
    {
      "cell_type": "code",
      "source": [
        "y_train.min()"
      ],
      "metadata": {
        "colab": {
          "base_uri": "https://localhost:8080/"
        },
        "id": "7UkKGSUHwond",
        "outputId": "9a1f7494-a969-4785-bde9-b4268ac72d67"
      },
      "execution_count": 18,
      "outputs": [
        {
          "output_type": "execute_result",
          "data": {
            "text/plain": [
              "0"
            ]
          },
          "metadata": {},
          "execution_count": 18
        }
      ]
    },
    {
      "cell_type": "code",
      "source": [
        "#\n",
        "plt.figure(figsize=(5,5))\n",
        "plt.imshow(x_train[1])\n",
        "plt.colorbar()\n",
        "plt.show()"
      ],
      "metadata": {
        "colab": {
          "base_uri": "https://localhost:8080/",
          "height": 309
        },
        "id": "tGP0YWo4wtNW",
        "outputId": "8caf84e5-07c0-4dbc-9c4c-bfebee6ab51c"
      },
      "execution_count": 29,
      "outputs": [
        {
          "output_type": "display_data",
          "data": {
            "text/plain": [
              "<Figure size 360x360 with 2 Axes>"
            ],
            "image/png": "[encoded data removed]"
          },
          "metadata": {
            "needs_background": "light"
          }
        }
      ]
    },
    {
      "cell_type": "markdown",
      "source": [
        "when value is 0 color is violet and when value is 255 yellow-green\n",
        "\n",
        "**these pixel values are varying tooo much scale them b/w one and zero** "
      ],
      "metadata": {
        "id": "0RtyCZPzx_e7"
      }
    },
    {
      "cell_type": "code",
      "source": [
        "type(y_train)#all datas are in numpy array type"
      ],
      "metadata": {
        "colab": {
          "base_uri": "https://localhost:8080/"
        },
        "id": "VGlHZi7IxFY2",
        "outputId": "78432111-75ae-42b9-834e-b43b1c3526d0"
      },
      "execution_count": 31,
      "outputs": [
        {
          "output_type": "execute_result",
          "data": {
            "text/plain": [
              "numpy.ndarray"
            ]
          },
          "metadata": {},
          "execution_count": 31
        }
      ]
    },
    {
      "cell_type": "code",
      "source": [
        "x_train = x_train/255.0\n",
        "x_test = x_test/255.0"
      ],
      "metadata": {
        "id": "qPH9KujcysoQ"
      },
      "execution_count": 58,
      "outputs": []
    },
    {
      "cell_type": "markdown",
      "source": [
        "show a batch of images and their labels"
      ],
      "metadata": {
        "id": "QMFTxsZuzGQR"
      }
    },
    {
      "cell_type": "code",
      "source": [
        "plt.figure(figsize=(15,15))\n",
        "for i in range(10):\n",
        "  plt.subplot(5,5,i+1)\n",
        "  plt.imshow(x_train[i],cmap=plt.cm.afmhot_r)\n",
        "  plt.xlabel(class_names[y_train[i]])\n",
        "  # plt.grid(False)\n",
        "plt.show()"
      ],
      "metadata": {
        "colab": {
          "base_uri": "https://localhost:8080/",
          "height": 373
        },
        "id": "tW80vgKAy-iq",
        "outputId": "2573c75d-3da8-4ebb-a226-ea876f43dc88"
      },
      "execution_count": 57,
      "outputs": [
        {
          "output_type": "display_data",
          "data": {
            "text/plain": [
              "<Figure size 1080x1080 with 10 Axes>"
            ],
            "image/png": "[encoded data removed]"
          },
          "metadata": {
            "needs_background": "light"
          }
        }
      ]
    },
    {
      "cell_type": "code",
      "source": [
        "plt.figure(figsize=(3,4)) #figure with 3,4 size\n",
        "plt.imshow([[225,95,205],[50,255,0]])\n",
        "plt.show()"
      ],
      "metadata": {
        "colab": {
          "base_uri": "https://localhost:8080/",
          "height": 164
        },
        "id": "ErxP2vEqzmLe",
        "outputId": "11c5dc70-4821-4c4d-ecab-087fa017e406"
      },
      "execution_count": 59,
      "outputs": [
        {
          "output_type": "display_data",
          "data": {
            "text/plain": [
              "<Figure size 216x288 with 1 Axes>"
            ],
            "image/png": "[encoded data removed]"
          },
          "metadata": {
            "needs_background": "light"
          }
        }
      ]
    },
    {
      "cell_type": "markdown",
      "source": [
        "## building the model\n",
        "\n",
        "creating and configuring the layers and comiple with loss accuracy optimizer"
      ],
      "metadata": {
        "id": "3qrZXJi_LaiA"
      }
    },
    {
      "cell_type": "markdown",
      "source": [
        "layers are the building blocks of the nueral network\n",
        "\n",
        "layers extract the patterns from the data its getting"
      ],
      "metadata": {
        "id": "JioE1ChMLxGn"
      }
    },
    {
      "cell_type": "code",
      "source": [
        "model1 = tf.keras.models.Sequential(\n",
        "    [\n",
        "        tf.keras.layers.Flatten(input_shape=(28,28)),#flattens the input into 1d tensor here of shape 784\n",
        "        tf.keras.layers.Dense(128,activation='relu'),\n",
        "        tf.keras.layers.Dense(56,activation='relu',),#these fully connected layer has weights associated with them\n",
        "        tf.keras.layers.Dense(10,activation='softmax',name = 'model1_layer2')\n",
        "    ]\n",
        ")"
      ],
      "metadata": {
        "id": "HHWIlD681zzW"
      },
      "execution_count": 78,
      "outputs": []
    },
    {
      "cell_type": "code",
      "source": [
        "model2 = tf.keras.models.Sequential(name='fashion')\n",
        "\n",
        "model2.add(tf.keras.layers.Flatten(input_shape=(28,28),name = 'flatten_layer'))\n",
        "model2.add(tf.keras.layers.Dense(526,activation='relu',name = 'layer1'))#fully connected layers with 526 nodes \n",
        "model2.add(tf.keras.layers.Dense(126,activation='relu',name = 'layer2'))\n",
        "model2.add(tf.keras.layers.Dense(56,activation='relu',name = 'layer3'))#these last layer is same as the number of class \n",
        "model2.add(tf.keras.layers.Dense(10,activation='softmax',name = 'softmax_layer'))"
      ],
      "metadata": {
        "id": "grh0r4hFNaqv"
      },
      "execution_count": 107,
      "outputs": []
    },
    {
      "cell_type": "code",
      "source": [
        "#weights associated with fully connected layer\n",
        "\n",
        "model2.layers[3].weights"
      ],
      "metadata": {
        "id": "IZpGdIqyQV38"
      },
      "execution_count": null,
      "outputs": []
    },
    {
      "cell_type": "code",
      "source": [
        "model1.get_layer('model1_layer2').weights"
      ],
      "metadata": {
        "id": "3KzCqO1gRjdE"
      },
      "execution_count": null,
      "outputs": []
    },
    {
      "cell_type": "markdown",
      "source": [
        "**compiling the model**\n",
        "\n",
        "adding \n",
        "1. **loss function** --ie how well the model is performing\n",
        "\n",
        "2. **optimizer**    --way to update parameters based on loss\n",
        "\n",
        "3. **metrics**  --to find the accuracy of the model\n",
        "\n"
      ],
      "metadata": {
        "id": "F1kc7bp3Pl4x"
      }
    },
    {
      "cell_type": "code",
      "source": [
        "model1.compile(\n",
        "    loss=tf.keras.losses.SparseCategoricalCrossentropy(from_logits=True),\n",
        "    optimizer='sgd',\n",
        "    metrics=['accuracy']\n",
        ")"
      ],
      "metadata": {
        "id": "q1oW0zq-N5p9"
      },
      "execution_count": 81,
      "outputs": []
    },
    {
      "cell_type": "code",
      "source": [
        "model2.compile(\n",
        "    loss=tf.keras.losses.mean_squared_error,\n",
        "    optimizer='adam',\n",
        "    metrics=['mse','mae']\n",
        "\n",
        ")"
      ],
      "metadata": {
        "id": "EE5mA4MUTy07"
      },
      "execution_count": 97,
      "outputs": []
    },
    {
      "cell_type": "code",
      "source": [
        ""
      ],
      "metadata": {
        "id": "9-F-Ffp3ZKXC"
      },
      "execution_count": null,
      "outputs": []
    },
    {
      "cell_type": "code",
      "source": [
        "#checking the model by inputing\n",
        "\n",
        "z = tf.ones([28,28],tf.int32)\n"
      ],
      "metadata": {
        "id": "DRFlmwHAU8ia"
      },
      "execution_count": null,
      "outputs": []
    },
    {
      "cell_type": "code",
      "source": [
        "model1.fit(x_train,y_train,epochs = 5)"
      ],
      "metadata": {
        "colab": {
          "base_uri": "https://localhost:8080/"
        },
        "id": "QhLkdzObVnIe",
        "outputId": "fe326d26-983f-4879-bdf2-02e0073599a8"
      },
      "execution_count": 87,
      "outputs": [
        {
          "output_type": "stream",
          "name": "stdout",
          "text": [
            "Epoch 1/5\n",
            "1875/1875 [==============================] - 4s 2ms/step - loss: 2.2985 - accuracy: 0.1432\n",
            "Epoch 2/5\n",
            "1875/1875 [==============================] - 5s 3ms/step - loss: 2.2971 - accuracy: 0.1720\n",
            "Epoch 3/5\n",
            "1875/1875 [==============================] - 6s 3ms/step - loss: 2.2952 - accuracy: 0.1963\n",
            "Epoch 4/5\n",
            "1875/1875 [==============================] - 6s 3ms/step - loss: 2.2928 - accuracy: 0.2015\n",
            "Epoch 5/5\n",
            "1875/1875 [==============================] - 6s 3ms/step - loss: 2.2895 - accuracy: 0.2237\n"
          ]
        },
        {
          "output_type": "execute_result",
          "data": {
            "text/plain": [
              "<keras.callbacks.History at 0x7fb1979d3f50>"
            ]
          },
          "metadata": {},
          "execution_count": 87
        }
      ]
    },
    {
      "cell_type": "code",
      "source": [
        "model2.fit(x_train,y_train,epochs = 10)"
      ],
      "metadata": {
        "colab": {
          "base_uri": "https://localhost:8080/"
        },
        "id": "g6J57sMpV_yW",
        "outputId": "4316cd96-1794-479d-af6c-31e435db7267"
      },
      "execution_count": 98,
      "outputs": [
        {
          "output_type": "stream",
          "name": "stdout",
          "text": [
            "Epoch 1/10\n",
            "1875/1875 [==============================] - 5s 2ms/step - loss: 27.6101 - mse: 27.6101 - mae: 4.4200\n",
            "Epoch 2/10\n",
            "1875/1875 [==============================] - 5s 2ms/step - loss: 27.6101 - mse: 27.6101 - mae: 4.4200\n",
            "Epoch 3/10\n",
            "1875/1875 [==============================] - 5s 2ms/step - loss: 27.6101 - mse: 27.6101 - mae: 4.4200\n",
            "Epoch 4/10\n",
            "1875/1875 [==============================] - 4s 2ms/step - loss: 27.6101 - mse: 27.6101 - mae: 4.4200\n",
            "Epoch 5/10\n",
            "1875/1875 [==============================] - 4s 2ms/step - loss: 27.6101 - mse: 27.6101 - mae: 4.4200\n",
            "Epoch 6/10\n",
            "1875/1875 [==============================] - 5s 2ms/step - loss: 27.6101 - mse: 27.6101 - mae: 4.4200\n",
            "Epoch 7/10\n",
            "1875/1875 [==============================] - 5s 2ms/step - loss: 27.6101 - mse: 27.6101 - mae: 4.4200\n",
            "Epoch 8/10\n",
            "1875/1875 [==============================] - 5s 2ms/step - loss: 27.6101 - mse: 27.6101 - mae: 4.4200\n",
            "Epoch 9/10\n",
            "1875/1875 [==============================] - 4s 2ms/step - loss: 27.6101 - mse: 27.6101 - mae: 4.4200\n",
            "Epoch 10/10\n",
            "1875/1875 [==============================] - 6s 3ms/step - loss: 27.6101 - mse: 27.6101 - mae: 4.4200\n"
          ]
        },
        {
          "output_type": "execute_result",
          "data": {
            "text/plain": [
              "<keras.callbacks.History at 0x7fb197845590>"
            ]
          },
          "metadata": {},
          "execution_count": 98
        }
      ]
    },
    {
      "cell_type": "code",
      "source": [
        "model2.compile(\n",
        "    loss=tf.keras.losses.SparseCategoricalCrossentropy(from_logits=True),\n",
        "    optimizer='adam',\n",
        "    metrics=['accuracy','mse','mae']\n",
        ")"
      ],
      "metadata": {
        "id": "1kevT3vfWVb6"
      },
      "execution_count": 108,
      "outputs": []
    },
    {
      "cell_type": "code",
      "source": [
        "model2.fit(x_train,y_train,epochs = 5)"
      ],
      "metadata": {
        "colab": {
          "base_uri": "https://localhost:8080/"
        },
        "id": "M9BWXDdXWw-X",
        "outputId": "8fe54812-436e-4296-de5f-0d8ea45eeb47"
      },
      "execution_count": 109,
      "outputs": [
        {
          "output_type": "stream",
          "name": "stdout",
          "text": [
            "Epoch 1/5\n",
            "1875/1875 [==============================] - 14s 7ms/step - loss: 0.7636 - accuracy: 0.7125 - mse: 27.6586 - mae: 4.4200\n",
            "Epoch 2/5\n",
            "1875/1875 [==============================] - 13s 7ms/step - loss: 0.5034 - accuracy: 0.8160 - mse: 27.6726 - mae: 4.4200\n",
            "Epoch 3/5\n",
            "1875/1875 [==============================] - 13s 7ms/step - loss: 0.4366 - accuracy: 0.8399 - mse: 27.6764 - mae: 4.4200\n",
            "Epoch 4/5\n",
            "1875/1875 [==============================] - 14s 7ms/step - loss: 0.3949 - accuracy: 0.8549 - mse: 27.6788 - mae: 4.4200\n",
            "Epoch 5/5\n",
            "1875/1875 [==============================] - 19s 10ms/step - loss: 0.3707 - accuracy: 0.8644 - mse: 27.6802 - mae: 4.4200\n"
          ]
        },
        {
          "output_type": "execute_result",
          "data": {
            "text/plain": [
              "<keras.callbacks.History at 0x7fb198540050>"
            ]
          },
          "metadata": {},
          "execution_count": 109
        }
      ]
    },
    {
      "cell_type": "code",
      "source": [
        "model = tf.keras.Sequential([\n",
        "    tf.keras.layers.Flatten(input_shape=(28, 28)),\n",
        "    tf.keras.layers.Dense(128, activation='relu'),\n",
        "    tf.keras.layers.Dense(10)\n",
        "])"
      ],
      "metadata": {
        "id": "hjZdA5emW1eP"
      },
      "execution_count": 99,
      "outputs": []
    },
    {
      "cell_type": "code",
      "source": [
        "model.compile(optimizer='adam',\n",
        "              loss=tf.keras.losses.SparseCategoricalCrossentropy(from_logits=True),\n",
        "              metrics=['accuracy'])"
      ],
      "metadata": {
        "id": "RYWg8-VZYgTG"
      },
      "execution_count": 100,
      "outputs": []
    },
    {
      "cell_type": "code",
      "source": [
        "model.fit(x_train,y_train,epochs = 5)"
      ],
      "metadata": {
        "colab": {
          "base_uri": "https://localhost:8080/"
        },
        "id": "H2FrUSM2YjAx",
        "outputId": "8914346c-114e-4cbc-8f24-86666e194791"
      },
      "execution_count": 101,
      "outputs": [
        {
          "output_type": "stream",
          "name": "stdout",
          "text": [
            "Epoch 1/5\n",
            "1875/1875 [==============================] - 6s 3ms/step - loss: 1.0626 - accuracy: 0.6672\n",
            "Epoch 2/5\n",
            "1875/1875 [==============================] - 4s 2ms/step - loss: 0.6252 - accuracy: 0.7754\n",
            "Epoch 3/5\n",
            "1875/1875 [==============================] - 4s 2ms/step - loss: 0.5511 - accuracy: 0.8036\n",
            "Epoch 4/5\n",
            "1875/1875 [==============================] - 4s 2ms/step - loss: 0.5110 - accuracy: 0.8190\n",
            "Epoch 5/5\n",
            "1875/1875 [==============================] - 4s 2ms/step - loss: 0.4850 - accuracy: 0.8284\n"
          ]
        },
        {
          "output_type": "execute_result",
          "data": {
            "text/plain": [
              "<keras.callbacks.History at 0x7fb197459090>"
            ]
          },
          "metadata": {},
          "execution_count": 101
        }
      ]
    },
    {
      "cell_type": "code",
      "source": [
        "test_loss, test_acc = model.evaluate(x_test,  y_test, verbose=2)"
      ],
      "metadata": {
        "colab": {
          "base_uri": "https://localhost:8080/"
        },
        "id": "eVlAFtpkYmmv",
        "outputId": "2cf0ee1e-2825-4c6f-d061-0dc549375edf"
      },
      "execution_count": 110,
      "outputs": [
        {
          "output_type": "stream",
          "name": "stdout",
          "text": [
            "313/313 - 1s - loss: 0.5026 - accuracy: 0.8188 - 787ms/epoch - 3ms/step\n"
          ]
        }
      ]
    },
    {
      "cell_type": "code",
      "source": [
        "test_loss, test_acc = model1.evaluate(x_test,  y_test, verbose=2)"
      ],
      "metadata": {
        "colab": {
          "base_uri": "https://localhost:8080/"
        },
        "id": "UOMGsludZkPF",
        "outputId": "1c10b8bf-23cf-4260-a15e-76ad95b5641e"
      },
      "execution_count": 111,
      "outputs": [
        {
          "output_type": "stream",
          "name": "stderr",
          "text": [
            "/usr/local/lib/python3.7/dist-packages/tensorflow/python/util/dispatch.py:1082: UserWarning: \"`sparse_categorical_crossentropy` received `from_logits=True`, but the `output` argument was produced by a sigmoid or softmax activation and thus does not represent logits. Was this intended?\"\n",
            "  return dispatch_target(*args, **kwargs)\n"
          ]
        },
        {
          "output_type": "stream",
          "name": "stdout",
          "text": [
            "313/313 - 1s - loss: 2.2873 - accuracy: 0.2856 - 1s/epoch - 3ms/step\n"
          ]
        }
      ]
    },
    {
      "cell_type": "code",
      "source": [
        "test_loss, test_acc, t,k= model2.evaluate(x_test,  y_test, verbose=2)"
      ],
      "metadata": {
        "colab": {
          "base_uri": "https://localhost:8080/"
        },
        "id": "HVjLOVJPZoEl",
        "outputId": "d88d21d3-9471-4516-ed83-7b6e567bec03"
      },
      "execution_count": 114,
      "outputs": [
        {
          "output_type": "stream",
          "name": "stdout",
          "text": [
            "313/313 - 1s - loss: 0.3961 - accuracy: 0.8534 - mse: 27.6795 - mae: 4.4200 - 729ms/epoch - 2ms/step\n"
          ]
        }
      ]
    },
    {
      "cell_type": "code",
      "source": [
        "predictions = model2.predict(x_test)"
      ],
      "metadata": {
        "id": "jLXfx6x9ZqjM"
      },
      "execution_count": 115,
      "outputs": []
    },
    {
      "cell_type": "code",
      "source": [
        "predictions.shape"
      ],
      "metadata": {
        "colab": {
          "base_uri": "https://localhost:8080/"
        },
        "id": "6dKbv908bkaR",
        "outputId": "314947dd-357c-4df7-8dd7-fd6c163b14b0"
      },
      "execution_count": 117,
      "outputs": [
        {
          "output_type": "execute_result",
          "data": {
            "text/plain": [
              "(10000, 10)"
            ]
          },
          "metadata": {},
          "execution_count": 117
        }
      ]
    },
    {
      "cell_type": "code",
      "source": [
        "predictions.max(axis=1)"
      ],
      "metadata": {
        "colab": {
          "base_uri": "https://localhost:8080/"
        },
        "id": "uiRnflYlbbny",
        "outputId": "140d1ae2-11d0-40ee-cf62-a8adef93c8d6"
      },
      "execution_count": 136,
      "outputs": [
        {
          "output_type": "execute_result",
          "data": {
            "text/plain": [
              "array([0.9119681 , 0.9254246 , 0.9998908 , ..., 0.9986343 , 0.9992015 ,\n",
              "       0.99177116], dtype=float32)"
            ]
          },
          "metadata": {},
          "execution_count": 136
        }
      ]
    },
    {
      "cell_type": "code",
      "source": [
        "class_names[np.argmax(predictions[0])]"
      ],
      "metadata": {
        "colab": {
          "base_uri": "https://localhost:8080/",
          "height": 35
        },
        "id": "TuT1aZFSce6A",
        "outputId": "98f72e2d-8b62-4494-b30b-2a859a02b129"
      },
      "execution_count": 139,
      "outputs": [
        {
          "output_type": "execute_result",
          "data": {
            "text/plain": [
              "'Ankle boot'"
            ],
            "application/vnd.google.colaboratory.intrinsic+json": {
              "type": "string"
            }
          },
          "metadata": {},
          "execution_count": 139
        }
      ]
    },
    {
      "cell_type": "code",
      "source": [
        "plt.imshow(x_test[0])"
      ],
      "metadata": {
        "colab": {
          "base_uri": "https://localhost:8080/",
          "height": 282
        },
        "id": "Q07Y9BlbeflZ",
        "outputId": "270ca36a-2a80-457e-c66f-f2763d15b64a"
      },
      "execution_count": 137,
      "outputs": [
        {
          "output_type": "execute_result",
          "data": {
            "text/plain": [
              "<matplotlib.image.AxesImage at 0x7fb18f322cd0>"
            ]
          },
          "metadata": {},
          "execution_count": 137
        },
        {
          "output_type": "display_data",
          "data": {
            "text/plain": [
              "<Figure size 432x288 with 1 Axes>"
            ],
            "image/png": "[encoded data removed]"
          },
          "metadata": {
            "needs_background": "light"
          }
        }
      ]
    },
    {
      "cell_type": "code",
      "source": [
        "selecting all the col"
      ],
      "metadata": {
        "id": "Pe9-qNPmcpRm"
      },
      "execution_count": null,
      "outputs": []
    }
  ]
}